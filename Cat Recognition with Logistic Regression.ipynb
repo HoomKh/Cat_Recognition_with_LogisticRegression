{
 "cells": [
  {
   "cell_type": "markdown",
   "id": "a3c78d79-5b5a-4e41-9858-b7f291f0772a",
   "metadata": {},
   "source": [
    "<div style=\"text-align: center;\">\n",
    "    <img src=\"images/cat-face.jpg\" style=\"width:650px;height:400px;\">\n",
    "</div>\n",
    "\n",
    "# 1. Packages\n",
    "This block includes steps to install and import necessary packages for the project. Packages such as NumPy, matplotlib, and h5py are crucial for numerical operations, data visualization, and handling HDF5 files, respectively."
   ]
  },
  {
   "cell_type": "markdown",
   "id": "46e46e57-5e1b-45b8-9283-ff44946b0c12",
   "metadata": {
    "jp-MarkdownHeadingCollapsed": true
   },
   "source": [
    "### 1.1 Install Packages\n",
    "This sub-block contains a command to install any missing packages using pip. It ensures all required libraries are available in the environment before proceeding."
   ]
  },
  {
   "cell_type": "code",
   "execution_count": 75,
   "id": "6d3d622a-1a83-4036-a8b2-6dd3956291e8",
   "metadata": {},
   "outputs": [],
   "source": [
    "# !pip install numpy matplotlib h5py"
   ]
  },
  {
   "cell_type": "markdown",
   "id": "6e55089d-fd94-46d7-8b32-9daa7c545c60",
   "metadata": {
    "jp-MarkdownHeadingCollapsed": true
   },
   "source": [
    "### 1.2 Import Packages\n",
    "This sub-block imports essential Python libraries like NumPy, matplotlib, and h5py, which are required for data manipulation, visualization, and handling the dataset files."
   ]
  },
  {
   "cell_type": "code",
   "execution_count": 76,
   "id": "c666124c-f905-4671-8563-393991c90d45",
   "metadata": {},
   "outputs": [],
   "source": [
    "import numpy as np\n",
    "from matplotlib import pyplot as plt\n",
    "import h5py"
   ]
  },
  {
   "cell_type": "markdown",
   "id": "b2b12cdd-e255-4e70-af66-f07f4031e495",
   "metadata": {},
   "source": [
    "<div style=\"text-align: center;\">\n",
    "    <img src=\"images/load-data.jpg\" style=\"width:650px;height:400px;\">\n",
    "</div>\n",
    "\n",
    "\n",
    "# 2. Load and Show Data \n",
    "This block is dedicated to loading and displaying the dataset. It includes functions to load the training and test data from HDF5 files,\n",
    "which contain images labeled as cat (1) or non-cat (0)."
   ]
  },
  {
   "cell_type": "markdown",
   "id": "dd984295-c747-4adc-9b14-f3704e9dc27f",
   "metadata": {
    "jp-MarkdownHeadingCollapsed": true
   },
   "source": [
    "### 2.1 Loading the Data (Cat/ Non-Cat)\n",
    "\n",
    "This sub-block defines a function load_dataset to load the training and test datasets from HDF5 files. It extracts the features and labels from the dataset files, reshapes the labels, and returns them for further processing."
   ]
  },
  {
   "cell_type": "code",
   "execution_count": 77,
   "id": "86abddb3-5716-4ba2-8ae5-97ce3257873a",
   "metadata": {},
   "outputs": [],
   "source": [
    "def load_dataset():\n",
    "    train_dataset = h5py.File('datasets/train_catvnoncat.h5', \"r\")\n",
    "    train_set_x_orig = np.array(train_dataset[\"train_set_x\"][:]) # your train set features\n",
    "    train_set_y_orig = np.array(train_dataset[\"train_set_y\"][:]) # your train set labels\n",
    "\n",
    "    test_dataset = h5py.File('datasets/test_catvnoncat.h5', \"r\")\n",
    "    test_set_x_orig = np.array(test_dataset[\"test_set_x\"][:]) # your test set features\n",
    "    test_set_y_orig = np.array(test_dataset[\"test_set_y\"][:]) # your test set labels\n",
    "\n",
    "    classes = np.array(test_dataset[\"list_classes\"][:]) # the list of classes\n",
    "    \n",
    "    train_set_y_orig = train_set_y_orig.reshape((1, train_set_y_orig.shape[0]))\n",
    "    test_set_y_orig = test_set_y_orig.reshape((1, test_set_y_orig.shape[0]))\n",
    "    \n",
    "    return train_set_x_orig, train_set_y_orig, test_set_x_orig, test_set_y_orig, classes"
   ]
  },
  {
   "cell_type": "code",
   "execution_count": 78,
   "id": "c4ad0a3f-f462-403a-93dd-5cfacbc67ac5",
   "metadata": {},
   "outputs": [],
   "source": [
    "#Loading Data\n",
    "train_set_x_orig, train_set_y, test_set_x_orig, test_set_y, classes = load_dataset()"
   ]
  },
  {
   "cell_type": "markdown",
   "id": "c2f6d999-1b13-485c-a6ef-bee15d1cff8b",
   "metadata": {
    "jp-MarkdownHeadingCollapsed": true
   },
   "source": [
    "### 2.2 Example of Traning Dataset"
   ]
  },
  {
   "cell_type": "markdown",
   "id": "6a367a26-13b3-406b-bf08-fbe7445bea03",
   "metadata": {},
   "source": [
    "dataset (\"data.h5\") containing:\n",
    "- a training set of m_train images labeled as cat (y=1) or non-cat (y=0)\n",
    "- a test set of m_test images labeled as cat or non-cat\n",
    "- each image is of shape (num_px, num_px, 3) where 3 is for the 3 channels (RGB). Thus, each image is square (height = num_px) and (width = num_px).\n",
    "\n",
    "We added \"_orig\" at the end of image datasets (train and test) because we are going to preprocess them. After preprocessing, we will end up with train_set_x and test_set_x (the labels train_set_y and test_set_y don't need any preprocessing).\n",
    "\n",
    "Each line of your train_set_x_orig and test_set_x_orig is an array representing an image. You can visualize an example by running the following code. Feel free also to change the `index` value and re-run to see other images. "
   ]
  },
  {
   "cell_type": "code",
   "execution_count": 79,
   "id": "2b3b4208-c08a-42aa-baac-54733b30c408",
   "metadata": {},
   "outputs": [
    {
     "name": "stdout",
     "output_type": "stream",
     "text": [
      "y = [1]\n"
     ]
    },
    {
     "data": {
      "image/png": "[encoded data removed]",
      "text/plain": [
       "<Figure size 640x480 with 1 Axes>"
      ]
     },
     "metadata": {},
     "output_type": "display_data"
    }
   ],
   "source": [
    "#Example of a picture\n",
    "index = 11\n",
    "plt.imshow(train_set_x_orig[index])\n",
    "print(\"y = \" + str(train_set_y[:, index]))"
   ]
  },
  {
   "cell_type": "code",
   "execution_count": 80,
   "id": "1a7ae44b-ca71-4142-a7e7-a52bdb5f053a",
   "metadata": {},
   "outputs": [
    {
     "name": "stdout",
     "output_type": "stream",
     "text": [
      "Number of training examples: m_train = 209\n",
      "Number of testing examples: m_test = 50\n",
      "Height/Width of each image: num_px = 64\n",
      "Each image is of size: (64, 64, 3)\n",
      "train_set_x shape: (209, 64, 64, 3)\n",
      "train_set_y shape: (1, 209)\n",
      "test_set_x shape: (50, 64, 64, 3)\n",
      "test_set_y shape: (1, 50)\n"
     ]
    }
   ],
   "source": [
    "m_train = train_set_x_orig.shape[0]\n",
    "m_test = test_set_x_orig.shape[0]\n",
    "num_px = train_set_x_orig.shape[1]\n",
    "\n",
    "print (\"Number of training examples: m_train = \" + str(m_train))\n",
    "print (\"Number of testing examples: m_test = \" + str(m_test))\n",
    "print (\"Height/Width of each image: num_px = \" + str(num_px))\n",
    "print (\"Each image is of size: (\" + str(num_px) + \", \" + str(num_px) + \", 3)\")\n",
    "print (\"train_set_x shape: \" + str(train_set_x_orig.shape))\n",
    "print (\"train_set_y shape: \" + str(train_set_y.shape))\n",
    "print (\"test_set_x shape: \" + str(test_set_x_orig.shape))\n",
    "print (\"test_set_y shape: \" + str(test_set_y.shape))"
   ]
  },
  {
   "cell_type": "markdown",
   "id": "2a2da6b9-445d-44b9-98a1-761a3edae3d1",
   "metadata": {
    "jp-MarkdownHeadingCollapsed": true
   },
   "source": [
    "### 2.3 Flattened Image"
   ]
  },
  {
   "cell_type": "markdown",
   "id": "46c21325-2795-47b5-b239-cb592dccfa89",
   "metadata": {},
   "source": [
    "For convenience, we should now reshape images of shape (num_px, num_px, 3) in a numpy-array of shape (num_px $*$ num_px $*$ 3, 1). After this, our training (and test) dataset is a numpy-array where each column represents a `flattened` image. There should be m_train (respectively m_test) columns."
   ]
  },
  {
   "cell_type": "code",
   "execution_count": 81,
   "id": "60fba900-a654-4f4c-bad1-c439329660eb",
   "metadata": {},
   "outputs": [
    {
     "name": "stdout",
     "output_type": "stream",
     "text": [
      "train_set_x_flatten shape: (12288, 209)\n",
      "train_set_y shape: (1, 209)\n",
      "test_set_x_flatten shape: (12288, 50)\n",
      "test_set_y shape: (1, 50)\n"
     ]
    }
   ],
   "source": [
    "# Reshape the training and test examples\n",
    "\n",
    "# train_set_x_flatten = train_set_x_orig.reshape(train_set_x_orig.shape[0], (train_set_x_orig.shape[1] * train_set_x_orig.shape[1] * 3)).T\n",
    "train_set_x_flatten = train_set_x_orig.reshape(train_set_x_orig.shape[0], -1).T\n",
    "\n",
    "# test_set_x_flatten = test_set_x_orig.reshape(test_set_x_orig.shape[0], (test_set_x_orig.shape[1] * test_set_x_orig.shape[1] * 3)).T\n",
    "test_set_x_flatten = test_set_x_orig.reshape(test_set_x_orig.shape[0], -1).T\n",
    "\n",
    "\n",
    "print (\"train_set_x_flatten shape: \" + str(train_set_x_flatten.shape))\n",
    "print (\"train_set_y shape: \" + str(train_set_y.shape))\n",
    "print (\"test_set_x_flatten shape: \" + str(test_set_x_flatten.shape))\n",
    "print (\"test_set_y shape: \" + str(test_set_y.shape))"
   ]
  },
  {
   "cell_type": "markdown",
   "id": "1d5e78eb-0361-46db-8022-2a89a75811a0",
   "metadata": {
    "jp-MarkdownHeadingCollapsed": true
   },
   "source": [
    "### 2.4 Standardize our Dataset"
   ]
  },
  {
   "cell_type": "markdown",
   "id": "0fef0191-0285-46e3-9f39-6d03a76cab46",
   "metadata": {},
   "source": [
    "To represent color images, the red, green and blue channels (RGB) must be specified for each pixel, and so the pixel value is actually a vector of three numbers ranging from 0 to 255.\n",
    "\n",
    "One common preprocessing step in machine learning is to `center and standardize` your dataset, meaning that you substract the mean of the whole numpy array from each example, and then divide each example by the standard deviation of the whole numpy array. But for picture datasets, it is simpler and more convenient and works almost as well to just divide every row of the dataset by 255 (the maximum value of a pixel channel)."
   ]
  },
  {
   "cell_type": "code",
   "execution_count": 82,
   "id": "125f0780-1ff3-4645-8da1-5fe592464c03",
   "metadata": {},
   "outputs": [
    {
     "name": "stdout",
     "output_type": "stream",
     "text": [
      "Train_Set_X shape: (12288, 209) , First 5 example of Train : \n",
      "\n",
      "[[0.06666667 0.76862745 0.32156863 0.00392157 0.03529412]\n",
      " [0.12156863 0.75294118 0.27843137 0.08627451 0.03529412]\n",
      " [0.21960784 0.74509804 0.26666667 0.00784314 0.01960784]\n",
      " ...\n",
      " [0.         0.32156863 0.54117647 0.00784314 0.06666667]\n",
      " [0.         0.31372549 0.55294118 0.23137255 0.12156863]\n",
      " [0.         0.31764706 0.55686275 0.00784314 0.08235294]]\n",
      "\n",
      "\n",
      "\n",
      "Test_Set_X shape: (12288, 50) , First 5 example of Test : \n",
      "\n",
      "[[0.61960784 0.45098039 1.         0.99607843 0.37647059]\n",
      " [0.40784314 0.43137255 0.99215686 0.99607843 0.28235294]\n",
      " [0.3254902  0.43529412 0.99607843 0.95294118 0.24313725]\n",
      " ...\n",
      " [0.67843137 0.67058824 0.52156863 0.50588235 0.57254902]\n",
      " [0.50196078 0.69019608 0.39607843 0.32941176 0.51764706]\n",
      " [0.43137255 0.72941176 0.4745098  0.16862745 0.51764706]]\n"
     ]
    }
   ],
   "source": [
    "train_set_x = train_set_x_flatten / 255\n",
    "test_set_x = test_set_x_flatten / 255\n",
    "\n",
    "print(f\"Train_Set_X shape: {train_set_x.shape} , First 5 example of Train : \\n\\n{train_set_x[:, :5]}\\n\\n\\n\")\n",
    "print(f\"Test_Set_X shape: {test_set_x.shape} , First 5 example of Test : \\n\\n{test_set_x[:, :5]}\")"
   ]
  },
  {
   "cell_type": "markdown",
   "id": "8c5d3a14-168b-4405-a187-051e6ecd2d59",
   "metadata": {},
   "source": [
    "<div style=\"text-align: center;\">\n",
    "    <img src=\"images/main.jpg\" style=\"width:650px;height:400px;\">\n",
    "</div>\n",
    "\n",
    "# 3. Build the Neural Network\n",
    "The main steps for building a Neural Network are:\n",
    "1. Define the model structure (such as number of input features) \n",
    "2. Initialize the model's parameters\n",
    "3. Loop:\n",
    "    - Calculate current loss (forward propagation)\n",
    "    - Calculate current gradient (backward propagation)\n",
    "    - Update parameters (gradient descent)"
   ]
  },
  {
   "cell_type": "markdown",
   "id": "b8a281d6-85ed-4416-9477-be5b0da02708",
   "metadata": {
    "jp-MarkdownHeadingCollapsed": true
   },
   "source": [
    "### 3.1 Helper Functions"
   ]
  },
  {
   "cell_type": "markdown",
   "id": "9a0e19dc-a60e-4268-98b2-b33c798c7f0b",
   "metadata": {},
   "source": [
    "#### 3.1.1 Sigmoid Function\n",
    "This block defines the sigmoid function, which is used to map predictions to probabilities in logistic regression."
   ]
  },
  {
   "cell_type": "code",
   "execution_count": 83,
   "id": "aef79ee5-38dc-4741-b3cc-ecc6157467b3",
   "metadata": {},
   "outputs": [],
   "source": [
    "def sigmoid(z):\n",
    "    s = 1 / ( 1 + np.exp(-z))\n",
    "    return s"
   ]
  },
  {
   "cell_type": "markdown",
   "id": "2390d454-ca71-425e-9f59-2bb8d36531b0",
   "metadata": {},
   "source": [
    "#### 3.1.2 Initializign Parameters Function\n",
    "This block contains a function to initialize parameters for the logistic regression model. It sets the weights and bias to zero or small random values."
   ]
  },
  {
   "cell_type": "code",
   "execution_count": 84,
   "id": "c9fd6618-2e39-4c34-8a01-3bd7fa4ec73a",
   "metadata": {},
   "outputs": [],
   "source": [
    "def initialize(par):\n",
    "    w = np.zeros((par, 1))\n",
    "    b = 0.0\n",
    "\n",
    "    return w, b"
   ]
  },
  {
   "cell_type": "markdown",
   "id": "d92ecc1e-e10d-4d5e-b236-a651b051c6ad",
   "metadata": {},
   "source": [
    "#### 3.1.3 Forward and Backward Propagation\n",
    "This block implements functions for forward and backward propagation. Forward propagation calculates the cost and predictions, while backward propagation computes the gradients needed for updating the parameters."
   ]
  },
  {
   "cell_type": "code",
   "execution_count": 85,
   "id": "6b1e747e-dacb-4292-9331-c3c1359fa72d",
   "metadata": {},
   "outputs": [],
   "source": [
    "def propagate(w, b, X, y):\n",
    "\n",
    "    m = X.shape[1]\n",
    "    \n",
    "    #cost \n",
    "    A = sigmoid(np.dot(w.T , X) + b)\n",
    "    cost = -1/m * np.sum(y * np.log(A) + ( 1 - y ) * np.log( 1 - A ))\n",
    "\n",
    "\n",
    "    #grads\n",
    "    dw = 1/m * np.dot(X, (A - y).T)\n",
    "    db = 1/m * np.sum(A - y)\n",
    "\n",
    "    cost = np.squeeze(np.array(cost))\n",
    "    grads = {\"dw\" : dw , \"db\" : db}\n",
    "\n",
    "    return grads, cost"
   ]
  },
  {
   "cell_type": "markdown",
   "id": "87b366c7-fe12-40f1-af1f-28f8cb4e9288",
   "metadata": {},
   "source": [
    "#### 3.1.4 Optimization Function\n",
    "This block includes the optimization function that performs gradient descent. It updates the parameters iteratively to minimize the cost function."
   ]
  },
  {
   "cell_type": "code",
   "execution_count": 86,
   "id": "54a01642-5b74-4727-af7b-7da093fefeb0",
   "metadata": {},
   "outputs": [],
   "source": [
    "def optimize(w, b, X, y, num_iterations = 100, learning_rate = 0.01, print_cost = False):\n",
    "\n",
    "    costs = []\n",
    "\n",
    "    for i in range(num_iterations):\n",
    "\n",
    "        grads, cost = propagate(w, b, X, y)\n",
    "        dw = grads[\"dw\"]\n",
    "        db = grads[\"db\"]\n",
    "\n",
    "        w -= learning_rate * dw\n",
    "        b -= learning_rate * db\n",
    "\n",
    "        # Record the costs\n",
    "        if i % 100 == 0:\n",
    "            costs.append(cost)\n",
    "        \n",
    "            # Print the cost every 100 training iterations\n",
    "            if print_cost:\n",
    "                print (\"Cost after iteration %i: %f\" %(i, cost))\n",
    "    \n",
    "    params = {\"w\": w,\n",
    "              \"b\": b}\n",
    "    \n",
    "    grads = {\"dw\": dw,\n",
    "             \"db\": db}\n",
    "    \n",
    "    return params, grads, costs"
   ]
  },
  {
   "cell_type": "markdown",
   "id": "283d6bd0-f020-432e-9afb-220d33f6a395",
   "metadata": {},
   "source": [
    "#### 3.1.5 Prediction Function\n",
    "This block defines a function predict that uses the trained model parameters to make predictions on new data."
   ]
  },
  {
   "cell_type": "code",
   "execution_count": 87,
   "id": "8cc24d0f-0e12-4f6f-913d-8adafb430c5f",
   "metadata": {},
   "outputs": [],
   "source": [
    "def predict(w, b, X):\n",
    "\n",
    "    m = X.shape[1]\n",
    "    yhat = np.zeros((1, m))\n",
    "    w = w.reshape(X.shape[0], 1)\n",
    "\n",
    "    A = sigmoid(np.dot(w.T, X) + b)\n",
    "    for i in range(A.shape[1]):\n",
    "        if A[0, i] > 0.5:\n",
    "            yhat[0, i] = 1\n",
    "        else:\n",
    "            yhat[0, i] = 0\n",
    "    return yhat "
   ]
  },
  {
   "cell_type": "markdown",
   "id": "6bf0089e-0559-4932-893b-13b1313c3046",
   "metadata": {
    "jp-MarkdownHeadingCollapsed": true
   },
   "source": [
    "### 3.2 Make the Model\n",
    "This block integrates all the functions into a complete model function. It trains the logistic regression model using the training data, predicts outcomes for both training and test datasets, and returns the model parameters and performance metrics.\n",
    "\n",
    "Implement the model function. Use the following notation:\n",
    "- Y_prediction_test for your predictions on the test set\n",
    "- Y_prediction_train for your predictions on the train set\n",
    "- parameters, grads, costs for the outputs of optimize()"
   ]
  },
  {
   "cell_type": "code",
   "execution_count": 88,
   "id": "e785c42e-2eca-422c-9958-d53bf2ec0c87",
   "metadata": {},
   "outputs": [],
   "source": [
    "def model(X_train, Y_train, X_test, Y_test, num_iterations=2000, learning_rate=0.5, print_cost=False):\n",
    "\n",
    "    w, b = initialize(X_train.shape[0])\n",
    "\n",
    "    parameters, grads, costs = optimize(w, b, X_train, Y_train, num_iterations, learning_rate, print_cost)\n",
    "\n",
    "    w = parameters[\"w\"]\n",
    "    b = parameters[\"b\"]\n",
    "\n",
    "    Y_prediction_test = predict(w, b, X_test)\n",
    "    Y_prediction_train = predict(w, b, X_train)\n",
    "\n",
    "    if print_cost:\n",
    "        print(\"train accuracy: {} %\".format(100 - np.mean(np.abs(Y_prediction_train - Y_train)) * 100))\n",
    "        print(\"test accuracy: {} %\".format(100 - np.mean(np.abs(Y_prediction_test - Y_test)) * 100))\n",
    "\n",
    "    \n",
    "    d = {\"costs\": costs,\n",
    "         \"Y_prediction_test\": Y_prediction_test, \n",
    "         \"Y_prediction_train\" : Y_prediction_train, \n",
    "         \"w\" : w, \n",
    "         \"b\" : b,\n",
    "         \"learning_rate\" : learning_rate,\n",
    "         \"num_iterations\": num_iterations}\n",
    "    \n",
    "    return d"
   ]
  },
  {
   "cell_type": "markdown",
   "id": "2e603cbb-5bc0-4575-9f4b-6ee267452434",
   "metadata": {
    "jp-MarkdownHeadingCollapsed": true
   },
   "source": [
    "### 3.3 Train the Model\n",
    "This block calls the model function to train the logistic regression model with specified hyperparameters like the number of iterations and learning rate."
   ]
  },
  {
   "cell_type": "code",
   "execution_count": 89,
   "id": "37b83011-482a-4394-ad18-a8f0b0f73352",
   "metadata": {
    "scrolled": true
   },
   "outputs": [
    {
     "name": "stdout",
     "output_type": "stream",
     "text": [
      "Cost after iteration 0: 0.693147\n",
      "Cost after iteration 100: 0.584508\n",
      "Cost after iteration 200: 0.466949\n",
      "Cost after iteration 300: 0.376007\n",
      "Cost after iteration 400: 0.331463\n",
      "Cost after iteration 500: 0.303273\n",
      "Cost after iteration 600: 0.279880\n",
      "Cost after iteration 700: 0.260042\n",
      "Cost after iteration 800: 0.242941\n",
      "Cost after iteration 900: 0.228004\n",
      "Cost after iteration 1000: 0.214820\n",
      "Cost after iteration 1100: 0.203078\n",
      "Cost after iteration 1200: 0.192544\n",
      "Cost after iteration 1300: 0.183033\n",
      "Cost after iteration 1400: 0.174399\n",
      "Cost after iteration 1500: 0.166521\n",
      "Cost after iteration 1600: 0.159305\n",
      "Cost after iteration 1700: 0.152667\n",
      "Cost after iteration 1800: 0.146542\n",
      "Cost after iteration 1900: 0.140872\n",
      "Cost after iteration 2000: 0.135608\n",
      "Cost after iteration 2100: 0.130708\n",
      "Cost after iteration 2200: 0.126137\n",
      "Cost after iteration 2300: 0.121861\n",
      "Cost after iteration 2400: 0.117855\n",
      "Cost after iteration 2500: 0.114093\n",
      "Cost after iteration 2600: 0.110554\n",
      "Cost after iteration 2700: 0.107219\n",
      "Cost after iteration 2800: 0.104072\n",
      "Cost after iteration 2900: 0.101097\n",
      "Cost after iteration 3000: 0.098280\n",
      "Cost after iteration 3100: 0.095610\n",
      "Cost after iteration 3200: 0.093075\n",
      "Cost after iteration 3300: 0.090667\n",
      "Cost after iteration 3400: 0.088374\n",
      "Cost after iteration 3500: 0.086190\n",
      "Cost after iteration 3600: 0.084108\n",
      "Cost after iteration 3700: 0.082119\n",
      "Cost after iteration 3800: 0.080219\n",
      "Cost after iteration 3900: 0.078402\n",
      "Cost after iteration 4000: 0.076662\n",
      "Cost after iteration 4100: 0.074994\n",
      "Cost after iteration 4200: 0.073395\n",
      "Cost after iteration 4300: 0.071860\n",
      "Cost after iteration 4400: 0.070385\n",
      "Cost after iteration 4500: 0.068968\n",
      "Cost after iteration 4600: 0.067604\n",
      "Cost after iteration 4700: 0.066291\n",
      "Cost after iteration 4800: 0.065027\n",
      "Cost after iteration 4900: 0.063807\n",
      "Cost after iteration 5000: 0.062631\n",
      "Cost after iteration 5100: 0.061496\n",
      "Cost after iteration 5200: 0.060400\n",
      "Cost after iteration 5300: 0.059341\n",
      "Cost after iteration 5400: 0.058317\n",
      "Cost after iteration 5500: 0.057327\n",
      "Cost after iteration 5600: 0.056368\n",
      "Cost after iteration 5700: 0.055440\n",
      "Cost after iteration 5800: 0.054541\n",
      "Cost after iteration 5900: 0.053669\n",
      "Cost after iteration 6000: 0.052824\n",
      "Cost after iteration 6100: 0.052005\n",
      "Cost after iteration 6200: 0.051209\n",
      "Cost after iteration 6300: 0.050436\n",
      "Cost after iteration 6400: 0.049686\n",
      "Cost after iteration 6500: 0.048957\n",
      "Cost after iteration 6600: 0.048248\n",
      "Cost after iteration 6700: 0.047559\n",
      "Cost after iteration 6800: 0.046888\n",
      "Cost after iteration 6900: 0.046236\n",
      "Cost after iteration 7000: 0.045601\n",
      "Cost after iteration 7100: 0.044982\n",
      "Cost after iteration 7200: 0.044380\n",
      "Cost after iteration 7300: 0.043793\n",
      "Cost after iteration 7400: 0.043220\n",
      "Cost after iteration 7500: 0.042662\n",
      "Cost after iteration 7600: 0.042118\n",
      "Cost after iteration 7700: 0.041587\n",
      "Cost after iteration 7800: 0.041069\n",
      "Cost after iteration 7900: 0.040563\n",
      "Cost after iteration 8000: 0.040069\n",
      "Cost after iteration 8100: 0.039587\n",
      "Cost after iteration 8200: 0.039116\n",
      "Cost after iteration 8300: 0.038655\n",
      "Cost after iteration 8400: 0.038205\n",
      "Cost after iteration 8500: 0.037765\n",
      "Cost after iteration 8600: 0.037335\n",
      "Cost after iteration 8700: 0.036914\n",
      "Cost after iteration 8800: 0.036502\n",
      "Cost after iteration 8900: 0.036099\n",
      "Cost after iteration 9000: 0.035704\n",
      "Cost after iteration 9100: 0.035318\n",
      "Cost after iteration 9200: 0.034940\n",
      "Cost after iteration 9300: 0.034570\n",
      "Cost after iteration 9400: 0.034207\n",
      "Cost after iteration 9500: 0.033851\n",
      "Cost after iteration 9600: 0.033503\n",
      "Cost after iteration 9700: 0.033161\n",
      "Cost after iteration 9800: 0.032826\n",
      "Cost after iteration 9900: 0.032498\n",
      "train accuracy: 100.0 %\n",
      "test accuracy: 70.0 %\n"
     ]
    }
   ],
   "source": [
    "logistic_regression_model = model(train_set_x, train_set_y, test_set_x, test_set_y, num_iterations=10000, learning_rate=0.005, print_cost=True)"
   ]
  },
  {
   "cell_type": "markdown",
   "id": "f53597d6-bf3f-4ccc-a5c5-fe9e5d3a314d",
   "metadata": {
    "jp-MarkdownHeadingCollapsed": true
   },
   "source": [
    "<div style=\"text-align: center;\">\n",
    "    <img src=\"images/cost.jpg\" style=\"width:650px;height:400px;\">\n",
    "</div>\n",
    "\n",
    "# 4. Plot the Cost \n",
    "This block focuses on visualizing the cost function to monitor the learning process. It plots the cost against the number of iterations to show how the cost decreases as the model trains."
   ]
  },
  {
   "cell_type": "code",
   "execution_count": 94,
   "id": "b9dc9bef-d374-40e0-a93b-eceedce57cf9",
   "metadata": {},
   "outputs": [
    {
     "data": {
      "image/png": "[encoded data removed]",
      "text/plain": [
       "<Figure size 640x480 with 1 Axes>"
      ]
     },
     "metadata": {},
     "output_type": "display_data"
    }
   ],
   "source": [
    "# Plot learning curve (with costs)\n",
    "plt.plot(logistic_regression_model['costs'])\n",
    "plt.ylabel('cost')\n",
    "plt.xlabel('iterations (per hundreds)')\n",
    "plt.title(\"Learning rate =\" + str(logistic_regression_model[\"learning_rate\"]))\n",
    "plt.show()"
   ]
  },
  {
   "cell_type": "code",
   "execution_count": null,
   "id": "f527b8d1-0273-4261-b335-faa3eed8d991",
   "metadata": {},
   "outputs": [],
   "source": []
  }
 ],
 "metadata": {
  "kernelspec": {
   "display_name": "Python 3 (ipykernel)",
   "language": "python",
   "name": "python3"
  },
  "language_info": {
   "codemirror_mode": {
    "name": "ipython",
    "version": 3
   },
   "file_extension": ".py",
   "mimetype": "text/x-python",
   "name": "python",
   "nbconvert_exporter": "python",
   "pygments_lexer": "ipython3",
   "version": "3.8.19"
  }
 },
 "nbformat": 4,
 "nbformat_minor": 5
}
